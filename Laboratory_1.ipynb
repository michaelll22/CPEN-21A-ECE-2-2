{
  "nbformat": 4,
  "nbformat_minor": 0,
  "metadata": {
    "colab": {
      "name": "Laboratory 1",
      "provenance": [],
      "authorship_tag": "ABX9TyObfmLtc4q0yhLe2fD0ETyY",
      "include_colab_link": true
    },
    "kernelspec": {
      "name": "python3",
      "display_name": "Python 3"
    },
    "language_info": {
      "name": "python"
    }
  },
  "cells": [
    {
      "cell_type": "markdown",
      "metadata": {
        "id": "view-in-github",
        "colab_type": "text"
      },
      "source": [
        "<a href=\"https://colab.research.google.com/github/michaelll22/CPEN-21A-ECE-2-2/blob/main/Laboratory_1.ipynb\" target=\"_parent\"><img src=\"https://colab.research.google.com/assets/colab-badge.svg\" alt=\"Open In Colab\"/></a>"
      ]
    },
    {
      "cell_type": "code",
      "metadata": {
        "colab": {
          "base_uri": "https://localhost:8080/"
        },
        "id": "vqrmiqCpyI3A",
        "outputId": "5285d64c-e3cb-415c-f698-498bfee37525"
      },
      "source": [
        "name = \"John Michael S. Fabi\"\n",
        "address = \"Brgy. Inocencio, Trece Martires City, Cavite\"\n",
        "\n",
        "print(\"Laboratory 1:\\n\\tWelcome to Python Programming\\n \\nName: {} \\nAddress: {}\".format(name, address))"
      ],
      "execution_count": 1,
      "outputs": [
        {
          "output_type": "stream",
          "name": "stdout",
          "text": [
            "Laboratory 1:\n",
            "\tWelcome to Python Programming\n",
            " \n",
            "Name: John Michael S. Fabi \n",
            "Address: Brgy. Inocencio, Trece Martires City, Cavite\n"
          ]
        }
      ]
    }
  ]
}