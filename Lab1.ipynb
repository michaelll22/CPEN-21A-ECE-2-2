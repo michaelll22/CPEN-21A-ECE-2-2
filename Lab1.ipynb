{
  "nbformat": 4,
  "nbformat_minor": 0,
  "metadata": {
    "colab": {
      "name": "Lab1",
      "provenance": [],
      "collapsed_sections": [],
      "authorship_tag": "ABX9TyMGqBH8vMPQ1YOC0QP1+55t",
      "include_colab_link": true
    },
    "kernelspec": {
      "name": "python3",
      "display_name": "Python 3"
    },
    "language_info": {
      "name": "python"
    }
  },
  "cells": [
    {
      "cell_type": "markdown",
      "metadata": {
        "id": "view-in-github",
        "colab_type": "text"
      },
      "source": [
        "<a href=\"https://colab.research.google.com/github/michaelll22/CPEN-21A-ECE-2-2/blob/main/Lab1.ipynb\" target=\"_parent\"><img src=\"https://colab.research.google.com/assets/colab-badge.svg\" alt=\"Open In Colab\"/></a>"
      ]
    },
    {
      "cell_type": "code",
      "metadata": {
        "colab": {
          "base_uri": "https://localhost:8080/"
        },
        "id": "K9RmfMih2U0Z",
        "outputId": "aaa3a01d-9164-4ac3-e8b4-9a0e633748c2"
      },
      "source": [
        "name = \"John Michael S. Fabi\"\n",
        "age = \"19\"\n",
        "address = \"Brgy. Inocencio, Trece Martires City, Cavite\"\n",
        "\n",
        "print(\"Laboratory 1: Welcome to Python Programming\\n \\nName: {}\\nAge: {}  \\nAddress: {}\".format(name, age, address))"
      ],
      "execution_count": 1,
      "outputs": [
        {
          "output_type": "stream",
          "name": "stdout",
          "text": [
            "Laboratory 1: Welcome to Python Programming\n",
            " \n",
            "Name: John Michael S. Fabi\n",
            "Age: 19  \n",
            "Address: Brgy. Inocencio, Trece Martires City, Cavite\n"
          ]
        }
      ]
    }
  ]
}