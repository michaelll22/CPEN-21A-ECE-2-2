{
  "nbformat": 4,
  "nbformat_minor": 0,
  "metadata": {
    "colab": {
      "name": "Final Exam.ipynb",
      "provenance": [],
      "authorship_tag": "ABX9TyNMxtOED5rLlK09gHB8GKCX",
      "include_colab_link": true
    },
    "kernelspec": {
      "name": "python3",
      "display_name": "Python 3"
    },
    "language_info": {
      "name": "python"
    }
  },
  "cells": [
    {
      "cell_type": "markdown",
      "metadata": {
        "id": "view-in-github",
        "colab_type": "text"
      },
      "source": [
        "<a href=\"https://colab.research.google.com/github/michaelll22/CPEN-21A-ECE-2-2/blob/main/Final_Exam.ipynb\" target=\"_parent\"><img src=\"https://colab.research.google.com/assets/colab-badge.svg\" alt=\"Open In Colab\"/></a>"
      ]
    },
    {
      "cell_type": "markdown",
      "source": [
        "##Final Exam"
      ],
      "metadata": {
        "id": "G0T2CoN0Zvwb"
      }
    },
    {
      "cell_type": "markdown",
      "source": [
        "Problem Statement 1\n",
        "\n",
        "---\n",
        "\n",
        "\n",
        "Create a Python program that will produce an output of sum of 10 numbers less than 5\n",
        "using FOR LOOP statement."
      ],
      "metadata": {
        "id": "YSFdzTmhc6Eg"
      }
    },
    {
      "cell_type": "code",
      "source": [
        "lst = []\n",
        "\n",
        "print(\"Enter 10 Numbers less than 5: \")\n",
        "for i in range(0, 10):\n",
        "  while True:\n",
        "    try:\n",
        "      ele = int(input())\n",
        "      if ele < 0 or ele > 4:\n",
        "            raise ValueError  \n",
        "      lst.append(ele)\n",
        "      break\n",
        "    except ValueError:\n",
        "        print(\"Invalid integer. The number must be less than 5.\")\n",
        "      \n",
        "Sum = sum(lst)\n",
        "\n",
        "print(\"Numbers > 5 = \", lst)\n",
        "print(\"The Sum of 10 numbers less than 5 is = \", Sum)"
      ],
      "metadata": {
        "colab": {
          "base_uri": "https://localhost:8080/"
        },
        "id": "ItZf5iFhBeOT",
        "outputId": "9d39a655-a2b7-4738-c105-fe800d77d564"
      },
      "execution_count": 1,
      "outputs": [
        {
          "output_type": "stream",
          "name": "stdout",
          "text": [
            "Enter 10 Numbers less than 5: \n",
            "1\n",
            "2\n",
            "3\n",
            "4\n",
            "5\n",
            "Invalid integer. The number must be less than 5.\n",
            "4\n",
            "3\n",
            "2\n",
            "1\n",
            "0\n",
            "1\n",
            "Numbers > 5 =  [1, 2, 3, 4, 4, 3, 2, 1, 0, 1]\n",
            "The Sum of 10 numbers less than 5 is =  21\n"
          ]
        }
      ]
    },
    {
      "cell_type": "markdown",
      "source": [
        "Problem Statement 2\n",
        "\n",
        "---\n",
        "\n",
        "Create a Python program that will produce accept five numbers and determine the sum of\n",
        "first and last number among the five numbers entered using WHILE LOOP"
      ],
      "metadata": {
        "id": "1l2pR4CNeTV6"
      }
    },
    {
      "cell_type": "code",
      "source": [
        "x = 0\n",
        "s = []  \n",
        "\n",
        "while x < 5:\n",
        "    x += 1\n",
        "    nm = int(input(\"Enter a number: \"))\n",
        "    s.append(nm)\n",
        "    sm = s[0] + s[-1] \n",
        "print(\"Numbers Input: \", s)\n",
        "print(\"The Sum of the First and Last number among the Five numbers is = \", sm)"
      ],
      "metadata": {
        "colab": {
          "base_uri": "https://localhost:8080/"
        },
        "id": "Onow2tsJGU61",
        "outputId": "f15ada30-307c-47ed-f493-120292395705"
      },
      "execution_count": 2,
      "outputs": [
        {
          "output_type": "stream",
          "name": "stdout",
          "text": [
            "Enter a number: 1\n",
            "Enter a number: 2\n",
            "Enter a number: 3\n",
            "Enter a number: 100\n",
            "Enter a number: 20\n",
            "Numbers Input:  [1, 2, 3, 100, 20]\n",
            "The Sum of the First and Last number among the Five numbers is =  21\n"
          ]
        }
      ]
    },
    {
      "cell_type": "markdown",
      "source": [
        "Problem Statement 3\n",
        "\n",
        "---\n",
        "Create a Python program to calculate student grades. It accepts a numerical grade as input\n",
        "and it will display the character grade as output based on the given scale: (Use Nested-IF-Else\n",
        "statement)\n"
      ],
      "metadata": {
        "id": "6n_BVICkecUx"
      }
    },
    {
      "cell_type": "code",
      "source": [
        "numGrade = int(input(\"Enter grade: \"))\n",
        "\n",
        "if (numGrade >= 90):\n",
        "  grade = 'A'\n",
        "else :\n",
        "  if (numGrade >= 80 and numGrade <= 89) :\n",
        "    grade = 'B'\n",
        "  else :\n",
        "    if (numGrade >= 70 and numGrade <= 79) :\n",
        "      grade = 'C'\n",
        "    else :\n",
        "      if (numGrade >= 60 and numGrade <= 69) :\n",
        "        grade = 'D'            \n",
        "      else:\n",
        "       grade = 'F'\n",
        "         \n",
        "print(grade)\n",
        "\n"
      ],
      "metadata": {
        "colab": {
          "base_uri": "https://localhost:8080/"
        },
        "id": "YcEabqXiK42s",
        "outputId": "c4d1b652-4373-4dad-e75d-b5ae61912cf7"
      },
      "execution_count": 3,
      "outputs": [
        {
          "output_type": "stream",
          "name": "stdout",
          "text": [
            "Enter grade: 90\n",
            "A\n"
          ]
        }
      ]
    }
  ]
}