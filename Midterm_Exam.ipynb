{
  "nbformat": 4,
  "nbformat_minor": 0,
  "metadata": {
    "colab": {
      "name": "Midterm Exam.ipynb",
      "provenance": [],
      "collapsed_sections": [],
      "authorship_tag": "ABX9TyObJ0kByNrR00HC32gXjx7T",
      "include_colab_link": true
    },
    "kernelspec": {
      "name": "python3",
      "display_name": "Python 3"
    },
    "language_info": {
      "name": "python"
    }
  },
  "cells": [
    {
      "cell_type": "markdown",
      "metadata": {
        "id": "view-in-github",
        "colab_type": "text"
      },
      "source": [
        "<a href=\"https://colab.research.google.com/github/michaelll22/CPEN-21A-ECE-2-2/blob/main/Midterm_Exam.ipynb\" target=\"_parent\"><img src=\"https://colab.research.google.com/assets/colab-badge.svg\" alt=\"Open In Colab\"/></a>"
      ]
    },
    {
      "cell_type": "markdown",
      "metadata": {
        "id": "zr_heVHovICN"
      },
      "source": [
        "##Problem Statement #1"
      ]
    },
    {
      "cell_type": "code",
      "metadata": {
        "id": "sCCF5LEPr0IT",
        "colab": {
          "base_uri": "https://localhost:8080/"
        },
        "outputId": "a4ca67b8-9d79-452f-b5cb-4bd730fe05c7"
      },
      "source": [
        "a = \"John Michael S. Fabi\"\n",
        "b = \"202012887\"\n",
        "c = \"19\"\n",
        "d = \"May 22, 2002\"\n",
        "e = \"Brgy. Inocencio, Trece Martires City, Cavite\"\n",
        "f = \"Bachelor of Science in Electronics and Communications Engineering\"\n",
        "g = \"1.5 (Summer semester)\"\n",
        "\n",
        "print (\"Name: \", a, \"\\nStudent Number: \", b, \"\\nAge: \", c, \"\\nBirthday: \", d, \"\\nAddress: \", e, \"\\nCourse: \", f, \"\\nLast Sem GWA: \", g  )"
      ],
      "execution_count": 77,
      "outputs": [
        {
          "output_type": "stream",
          "name": "stdout",
          "text": [
            "Name:  John Michael S. Fabi \n",
            "Student Number:  202012887 \n",
            "Age:  19 \n",
            "Birthday:  May 22, 2002 \n",
            "Address:  Brgy. Inocencio, Trece Martires City, Cavite \n",
            "Course:  Bachelor of Science in Electronics and Communications Engineering \n",
            "Last Sem GWA:  1.5 (Summer semester)\n"
          ]
        }
      ]
    },
    {
      "cell_type": "markdown",
      "metadata": {
        "id": "s_5X_PmDvNZA"
      },
      "source": [
        "##Problem Statement #2"
      ]
    },
    {
      "cell_type": "code",
      "metadata": {
        "colab": {
          "base_uri": "https://localhost:8080/"
        },
        "id": "hw1cKUQZvQLA",
        "outputId": "e1be6be2-1e03-4fba-e2d4-aa72e82c9f1f"
      },
      "source": [
        "n = 4\n",
        "answ = \"Y\"\n",
        "\n",
        "print(\"a. \", 2<n and n<6)\n",
        "print(\"b. \", 2<n or n==6)\n",
        "print(\"c. \", not 2<n or n==6)\n",
        "print(\"d. \", not n<6)\n",
        "print(\"e. \", answ==\"Y\" or answ==\"y\")\n",
        "print(\"f. \", answ==\"Y\" or answ==\"y\")\n",
        "print(\"g. \", not answ==\"y\")\n",
        "print(\"h. \", (2<n and n==5+1) or answ==\"No\" )\n",
        "print(\"i. \", (n==2 and n==7) or answ==\"Y\")\n",
        "print(\"j. \", n==2 and (n==7 or answ==\"Y\"))"
      ],
      "execution_count": 86,
      "outputs": [
        {
          "output_type": "stream",
          "name": "stdout",
          "text": [
            "a.  True\n",
            "b.  True\n",
            "c.  False\n",
            "d.  False\n",
            "e.  True\n",
            "f.  True\n",
            "g.  True\n",
            "h.  False\n",
            "i.  True\n",
            "j.  False\n"
          ]
        }
      ]
    },
    {
      "cell_type": "markdown",
      "metadata": {
        "id": "glWe7a1k13lA"
      },
      "source": [
        "##Problem Statement #3"
      ]
    },
    {
      "cell_type": "code",
      "metadata": {
        "colab": {
          "base_uri": "https://localhost:8080/"
        },
        "id": "LonWsjT418O8",
        "outputId": "f2a80b65-3a76-4051-cbf8-7172392b2736"
      },
      "source": [
        "x = 2\n",
        "y = -3\n",
        "w =7\n",
        "z = -10\n",
        "\n",
        "print(\"a. \", x/y)\n",
        "print(\"b. \", x/y/x)\n",
        "print(\"c. \", z/y%x)\n",
        "print(\"d. \", x%-y*w)\n",
        "print(\"e. \", x%y)\n",
        "print(\"f. \", z%w-y/x*5+5)\n",
        "print(\"g. \", 9-x%(2+y))\n",
        "print(\"h. \", z//w)\n",
        "print(\"i. \", (2+y)**2)\n",
        "print(\"j. \", w/x*2)"
      ],
      "execution_count": 85,
      "outputs": [
        {
          "output_type": "stream",
          "name": "stdout",
          "text": [
            "a.  -0.6666666666666666\n",
            "b.  -0.3333333333333333\n",
            "c.  1.3333333333333335\n",
            "d.  14\n",
            "e.  -1\n",
            "f.  16.5\n",
            "g.  9\n",
            "h.  -2\n",
            "i.  1\n",
            "j.  7.0\n"
          ]
        }
      ]
    }
  ]
}